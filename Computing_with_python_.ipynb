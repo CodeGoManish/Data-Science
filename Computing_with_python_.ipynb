{
  "nbformat": 4,
  "nbformat_minor": 0,
  "metadata": {
    "colab": {
      "provenance": [],
      "authorship_tag": "ABX9TyM1jyi1tX18dHmVz3PsVDZ8",
      "include_colab_link": true
    },
    "kernelspec": {
      "name": "python3",
      "display_name": "Python 3"
    },
    "language_info": {
      "name": "python"
    }
  },
  "cells": [
    {
      "cell_type": "markdown",
      "metadata": {
        "id": "view-in-github",
        "colab_type": "text"
      },
      "source": [
        "<a href=\"https://colab.research.google.com/github/CodeGoManish/Data-Science/blob/main/Computing_with_python_.ipynb\" target=\"_parent\"><img src=\"https://colab.research.google.com/assets/colab-badge.svg\" alt=\"Open In Colab\"/></a>"
      ]
    },
    {
      "cell_type": "markdown",
      "source": [],
      "metadata": {
        "id": "Cm04UFwKtG8B"
      }
    },
    {
      "cell_type": "code",
      "execution_count": null,
      "metadata": {
        "colab": {
          "base_uri": "https://localhost:8080/"
        },
        "id": "5HxggEY2ajNs",
        "outputId": "cabad8df-f95b-4968-88bd-7f863ba880e3"
      },
      "outputs": [
        {
          "output_type": "stream",
          "name": "stdout",
          "text": [
            "Series sorted on index:\n",
            "a     5\n",
            "b     7\n",
            "c     2\n",
            "d     8\n",
            "e    10\n",
            "dtype: int64\n",
            "\n",
            "Series sorted on values:\n",
            "c     2\n",
            "a     5\n",
            "b     7\n",
            "d     8\n",
            "e    10\n",
            "dtype: int64\n"
          ]
        }
      ],
      "source": [
        "# prompt: 2 and 3 code practia;l\n",
        "\n",
        "# Code Practical 2: Calculate the sum of numbers in a list\n",
        "\n",
        "numbers = [1, 2, 3, 4, 5]\n",
        "sum_of_numbers = sum(numbers)\n",
        "print(\"The sum of the numbers is:\", sum_of_numbers)\n",
        "\n",
        "\n",
        "# Code Practical 3: Check if a number is even or odd\n",
        "\n",
        "number = 7\n",
        "\n",
        "if number % 2 == 0:\n",
        "  print(number, \"is even.\")\n",
        "else:\n",
        "  print(number, \"is odd.\")\n"
      ]
    },
    {
      "cell_type": "code",
      "source": [
        "import pandas as pd\n",
        "series = pd.Series([2, 4, 6, 2, 8, 6, 3, 7, 4, 5])\n",
        "min_ranks_first = series.rank(method='first')\n",
        "max_ranks_max = series.rank(method='max')\n",
        "print(\"Series:\")\n",
        "print(series)\n",
        "print(\"\\nMinimum ranks (using 'first' method):\")\n",
        "print(min_ranks_first)\n",
        "print(\"\\nMaximum ranks (using 'max' method):\")\n",
        "print(max_ranks_max)\n"
      ],
      "metadata": {
        "colab": {
          "base_uri": "https://localhost:8080/"
        },
        "id": "6BNmWOXxdCrc",
        "outputId": "6408dc1c-3f9c-45cc-db4f-995d95d65506"
      },
      "execution_count": null,
      "outputs": [
        {
          "output_type": "stream",
          "name": "stdout",
          "text": [
            "Series:\n",
            "0    2\n",
            "1    4\n",
            "2    6\n",
            "3    2\n",
            "4    8\n",
            "5    6\n",
            "6    3\n",
            "7    7\n",
            "8    4\n",
            "9    5\n",
            "dtype: int64\n",
            "\n",
            "Minimum ranks (using 'first' method):\n",
            "0     1.0\n",
            "1     4.0\n",
            "2     7.0\n",
            "3     2.0\n",
            "4    10.0\n",
            "5     8.0\n",
            "6     3.0\n",
            "7     9.0\n",
            "8     5.0\n",
            "9     6.0\n",
            "dtype: float64\n",
            "\n",
            "Maximum ranks (using 'max' method):\n",
            "0     2.0\n",
            "1     5.0\n",
            "2     8.0\n",
            "3     2.0\n",
            "4    10.0\n",
            "5     8.0\n",
            "6     3.0\n",
            "7     9.0\n",
            "8     5.0\n",
            "9     6.0\n",
            "dtype: float64\n"
          ]
        }
      ]
    },
    {
      "cell_type": "code",
      "source": [
        "# Create a sample series\n",
        "series = pd.Series([10, 5, 8, 2, 7])\n",
        "# Find index value of the minimum element\n",
        "min_index = series.idxmin()\n",
        "# Find index value of the maximum element\n",
        "max_index = series.idxmax()\n",
        "print(\"Index value of the minimum element:\", min_index)\n",
        "print(\"Index value of the maximum element:\", max_index)"
      ],
      "metadata": {
        "colab": {
          "base_uri": "https://localhost:8080/"
        },
        "id": "H7zEtIphfRD5",
        "outputId": "6a2f7002-6173-4058-8302-2b4673f85e86"
      },
      "execution_count": null,
      "outputs": [
        {
          "output_type": "stream",
          "name": "stdout",
          "text": [
            "Index value of the minimum element: 3\n",
            "Index value of the maximum element: 0\n"
          ]
        }
      ]
    },
    {
      "cell_type": "code",
      "source": [
        "import pandas as pd\n",
        "import numpy as np\n",
        "data = np.random.randn(50, 3)\n",
        "df = pd.DataFrame(data, columns=['Column1', 'Column2', 'Column3'])\n",
        "null_indices = np.random.choice(df.index, size=int(0.1 * len(df)), replace=False)\n",
        "for idx in null_indices:\n",
        "  col_idx = np.random.randint(0, 3)\n",
        "df.iloc[idx, col_idx] = np.nan\n",
        "missing_values_count = df.isnull().sum()\n",
        "print(\"Missing values count:\")\n",
        "print(missing_values_count)"
      ],
      "metadata": {
        "colab": {
          "base_uri": "https://localhost:8080/"
        },
        "id": "e0ueuLnJiGOa",
        "outputId": "88e61a5c-0310-4f95-aef8-4c7fae9991e6"
      },
      "execution_count": null,
      "outputs": [
        {
          "output_type": "stream",
          "name": "stdout",
          "text": [
            "Missing values count:\n",
            "Column1    1\n",
            "Column2    0\n",
            "Column3    0\n",
            "dtype: int64\n"
          ]
        }
      ]
    },
    {
      "cell_type": "code",
      "source": [
        "import pandas as pd\n",
        "import numpy as np\n",
        "data = np.random.randn(8, 3)\n",
        "df = pd.DataFrame(data, columns=['Column1', 'Col2', 'Col3'])\n",
        "null_indices = np.random.choice(df.index, size=int(0.1 * len(df)), replace=False)\n",
        "for idx in null_indices:\n",
        "  col_idx = np.random.randint(0, 2)\n",
        "df.iloc[idx, col_idx] = np.nan\n",
        "df=df.dropna(axis=1, thresh=2)\n",
        "print(df)"
      ],
      "metadata": {
        "colab": {
          "base_uri": "https://localhost:8080/"
        },
        "id": "mvmyOUyfkP--",
        "outputId": "1f4e4067-dab4-4fca-ad42-513c9a628e43"
      },
      "execution_count": null,
      "outputs": [
        {
          "output_type": "stream",
          "name": "stdout",
          "text": [
            "    Column1   Column2   Column3\n",
            "0 -0.139919  1.041177 -0.946582\n",
            "1 -0.272576 -1.604588 -1.106281\n",
            "2 -0.876993  0.763414 -0.150942\n",
            "3 -1.291807  0.812170  0.382872\n",
            "4 -1.412956 -0.127847 -0.151271\n",
            "5       NaN  1.054240 -0.445902\n",
            "6 -1.320213 -0.244216 -0.638647\n",
            "7 -0.228262 -0.677472  1.062047\n"
          ]
        }
      ]
    },
    {
      "cell_type": "code",
      "source": [
        "import pandas as pd\n",
        "import numpy as np\n",
        "data = np.random.randn(8, 3)\n",
        "df = pd.DataFrame(data, columns=['Column1', 'Column2', 'Column3'])\n",
        "null_indices = np.random.choice(df.index, size=int(0.1 * len(df)), replace=False)\n",
        "for idx in null_indices:col_idx = np.random.randint(0, 2)\n",
        "df.iloc[idx, col_idx] = np.nan\n",
        "row_sums = df.sum(axis=1)\n",
        "max_row_label = row_sums.idxmax()\n",
        "df = df.drop(index=max_row_label)\n",
        "print(df)\n"
      ],
      "metadata": {
        "colab": {
          "base_uri": "https://localhost:8080/"
        },
        "id": "jwo2iHlIn1LK",
        "outputId": "45482d44-24d6-4100-d95a-b31fb40630b1"
      },
      "execution_count": null,
      "outputs": [
        {
          "output_type": "stream",
          "name": "stdout",
          "text": [
            "    Column1   Column2   Column3\n",
            "0 -0.355955  1.060483  0.610955\n",
            "1 -0.620804  1.836314 -1.750958\n",
            "2  1.768765  0.560859 -0.227283\n",
            "3  1.470487  0.459659       NaN\n",
            "4  0.954051  1.120742 -1.462374\n",
            "6 -0.468689 -1.532331  0.740086\n",
            "7 -0.770427  0.849304 -0.888919\n"
          ]
        }
      ]
    },
    {
      "cell_type": "code",
      "source": [
        "import pandas as pd\n",
        "import numpy as np\n",
        "data = np.random.randn(8, 3)\n",
        "df = pd.DataFrame(data, columns=['Column1', 'Column2', 'Column3'])\n",
        "null_indices = np.random.choice(df.index, size=int(0.1 * len(df)), replace=False)\n",
        "for idx in null_indices:\n",
        "  col_idx = np.random.randint(0, 2)\n",
        "  f.iloc[idx, col_idx] = np.nan\n",
        "df_sorted = df.sort_values(by='Column1')\n",
        "print(df_sorted)"
      ],
      "metadata": {
        "colab": {
          "base_uri": "https://localhost:8080/"
        },
        "id": "0UcrAyfXo01G",
        "outputId": "2f93c01f-fdba-4706-f78d-24f8b6e816b6"
      },
      "execution_count": null,
      "outputs": [
        {
          "output_type": "stream",
          "name": "stdout",
          "text": [
            "    Column1   Column2   Column3\n",
            "3 -1.433287  0.252422  1.105436\n",
            "4 -1.279501 -1.631613 -2.084274\n",
            "6 -0.685992 -0.276412 -1.280892\n",
            "7 -0.358015 -2.565821  0.917281\n",
            "5  0.241479  0.733592 -0.275490\n",
            "0  0.447179  1.548202 -0.792107\n",
            "2  0.718904 -0.615151 -0.646293\n",
            "1  1.124571 -0.019464  1.220894\n"
          ]
        }
      ]
    },
    {
      "cell_type": "code",
      "source": [
        "#d. Sort the data frame on the basis of the first column.\n",
        "import pandas as pd\n",
        "import numpy as np\n",
        "data = np.random.randn(8, 3)\n",
        "df = pd.DataFrame(data, columns=['Column1', 'Column2', 'Column3'])\n",
        "null_indices = np.random.choice(df.index, size=int(0.1 * len(df)), replace=False)\n",
        "for idx in null_indices:\n",
        "  col_idx = np.random.randint(0, 2)\n",
        "  df.iloc[idx, col_idx] = np.nan\n",
        "df_unique=df.drop_duplicates(subset=['Column1'])\n",
        "print(df_unique)\n"
      ],
      "metadata": {
        "colab": {
          "base_uri": "https://localhost:8080/"
        },
        "id": "VdTaN_BNpOOE",
        "outputId": "b1cf3c0a-2e99-4d22-849a-9aa9b2679dab"
      },
      "execution_count": null,
      "outputs": [
        {
          "output_type": "stream",
          "name": "stdout",
          "text": [
            "    Column1   Column2   Column3\n",
            "0 -1.261734  1.193327  0.358199\n",
            "1  0.244990  1.184883 -2.086713\n",
            "2 -0.435090 -1.255491  1.119890\n",
            "3 -0.364294 -0.488614  0.406042\n",
            "4  0.006158  1.145265 -1.441479\n",
            "5  0.786087  0.119033 -0.385241\n",
            "6 -0.171355 -0.929375  0.651950\n",
            "7 -0.113042  1.012893  0.834764\n"
          ]
        }
      ]
    },
    {
      "cell_type": "code",
      "source": [
        "# Remove all duplicate  from the first column\n",
        "import pandas as pd\n",
        "import numpy as np\n",
        "data = np.random.randn(10, 3)\n",
        "df = pd.DataFrame(data, columns=['Column1', 'Column2', 'Column3'])\n",
        "null_indices = np.random.choice(df.index, size=int(0.1 * len(df)), replace=False)\n",
        "for idx in null_indices:\n",
        "  col_idx = np.random.randint(0, 2)\n",
        "  df.iloc[idx, col_idx] = np.nan\n",
        "  # Calculate correlation between first and second column\n",
        "  correlation_first_second = df['Column1'].corr(df['Column2'])\n",
        "  # Calculate covariance between second and third column\n",
        "  covariance_second_third = df['Column2'].cov(df['Column3'])\n",
        "  print(\"Correlation between first and second column:\", correlation_first_second)\n",
        "  print(\"Covariance between second and third column:\", covariance_second_third)"
      ],
      "metadata": {
        "colab": {
          "base_uri": "https://localhost:8080/"
        },
        "id": "jsbR1Cy_r27v",
        "outputId": "bb18f02e-8d7b-463b-dae0-8bf04dfa678c"
      },
      "execution_count": null,
      "outputs": [
        {
          "output_type": "stream",
          "name": "stdout",
          "text": [
            "Correlation between first and second column: 0.11877225593099569\n",
            "Covariance between second and third column: 0.1870720959552358\n"
          ]
        }
      ]
    },
    {
      "cell_type": "code",
      "source": [
        "import pandas as pd\n",
        "import numpy as np\n",
        "data = np.random.randn(10, 3)\n",
        "df = pd.DataFrame(data, columns=['Column1', 'Column2', 'Column3'])\n",
        "null_indices = np.random.choice(df.index, size=int(0.1 * len(df)), replace=False)\n",
        "for idx in null_indices:\n",
        "  col_idx = np.random.randint(0, 2)\n",
        "  df.iloc[idx, col_idx] = np.nan\n",
        "  df['Column2_bins'] = pd.cut(df['Column2'], bins=5)\n",
        "  print(df)"
      ],
      "metadata": {
        "colab": {
          "base_uri": "https://localhost:8080/"
        },
        "id": "6HHfIj_UsXbA",
        "outputId": "920c5f61-e198-47d7-b487-4be30b9a2d47"
      },
      "execution_count": null,
      "outputs": [
        {
          "output_type": "stream",
          "name": "stdout",
          "text": [
            "    Column1   Column2   Column3      Column2_bins\n",
            "0 -0.219445  1.878764 -0.997912    (1.427, 2.118]\n",
            "1 -0.967335       NaN  0.820005               NaN\n",
            "2  0.981046  0.272841 -0.372352   (0.0453, 0.736]\n",
            "3  0.007140 -1.336210  0.521948   (-1.34, -0.645]\n",
            "4  0.331523  0.155833  0.633290   (0.0453, 0.736]\n",
            "5 -0.106501 -1.288498 -0.927076   (-1.34, -0.645]\n",
            "6  1.507319 -0.255334 -1.625392  (-0.645, 0.0453]\n",
            "7 -0.618811  2.117546 -0.826920    (1.427, 2.118]\n",
            "8  0.620701  0.901846 -0.460628    (0.736, 1.427]\n",
            "9 -0.479244  0.971793  1.166268    (0.736, 1.427]\n"
          ]
        }
      ]
    }
  ]
}